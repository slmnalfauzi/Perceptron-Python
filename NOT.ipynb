{
 "cells": [
  {
   "cell_type": "code",
   "execution_count": 2,
   "metadata": {},
   "outputs": [
    {
     "name": "stdout",
     "output_type": "stream",
     "text": [
      "NOT(1) = 0\n",
      "NOT(0) = 1\n"
     ]
    }
   ],
   "source": [
    "import numpy as np\n",
    "\n",
    "def unitStep(v):\n",
    "    if v >= 0:\n",
    "        return 1\n",
    "    else:\n",
    "        return 0\n",
    "\n",
    "def perceptron(x, w, b):\n",
    "    v = np.dot(w, x) + b\n",
    "    y = unitStep(v)\n",
    "    return y\n",
    "\n",
    "def NOT_logicFunc(x):\n",
    "    w = -1\n",
    "    b = 0.5\n",
    "    return perceptron(x, w, b)\n",
    "\n",
    "test1 = np.array(1)\n",
    "test2 = np.array(0)\n",
    "\n",
    "print(\"NOT({}) = {}\".format(1, NOT_logicFunc(test1)))\n",
    "print(\"NOT({}) = {}\".format(0, NOT_logicFunc(test2)))"
   ]
  },
  {
   "cell_type": "code",
   "execution_count": 1,
   "metadata": {},
   "outputs": [
    {
     "name": "stdout",
     "output_type": "stream",
     "text": [
      "NOT(1) = 0\n",
      "NOT(0) = 1\n"
     ]
    }
   ],
   "source": [
    "def unitStep(v):\n",
    "    if v >= 0:\n",
    "        return 1\n",
    "    else:\n",
    "        return 0\n",
    "\n",
    "def perceptron(x, w, b):\n",
    "    # Perhitungan bobot x input ditambah bias secara manual\n",
    "    v = w * x + b\n",
    "    y = unitStep(v)\n",
    "    return y\n",
    "\n",
    "def NOT_logicFunc(x):\n",
    "    w = -1  # Bobot untuk fungsi NOT\n",
    "    b = 0.5 # Bias untuk fungsi NOT\n",
    "    return perceptron(x, w, b)\n",
    "\n",
    "# Test cases\n",
    "test1 = 1\n",
    "test2 = 0\n",
    "\n",
    "print(\"NOT({}) = {}\".format(1, NOT_logicFunc(test1)))\n",
    "print(\"NOT({}) = {}\".format(0, NOT_logicFunc(test2)))\n"
   ]
  }
 ],
 "metadata": {
  "kernelspec": {
   "display_name": "Python 3",
   "language": "python",
   "name": "python3"
  },
  "language_info": {
   "codemirror_mode": {
    "name": "ipython",
    "version": 3
   },
   "file_extension": ".py",
   "mimetype": "text/x-python",
   "name": "python",
   "nbconvert_exporter": "python",
   "pygments_lexer": "ipython3",
   "version": "3.11.5"
  }
 },
 "nbformat": 4,
 "nbformat_minor": 2
}
