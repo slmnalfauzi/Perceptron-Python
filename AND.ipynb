{
 "cells": [
  {
   "cell_type": "code",
   "execution_count": 2,
   "metadata": {},
   "outputs": [
    {
     "name": "stdout",
     "output_type": "stream",
     "text": [
      "AND(0, 1) = 0\n",
      "AND(1, 1) = 1\n",
      "AND(0, 0) = 0\n",
      "AND(1, 0) = 0\n"
     ]
    }
   ],
   "source": [
    "import numpy as np  # Mengimpor pustaka numpy untuk operasi numerik\n",
    "\n",
    "# Fungsi untuk mendefinisikan fungsi step unit\n",
    "def unitStep(v): \n",
    "    if v >= 0: \n",
    "        return 1\n",
    "    else: \n",
    "        return 0\n",
    "\n",
    "# Fungsi untuk memodelkan perceptron\n",
    "def perceptronModel(x, w, b): \n",
    "    v = np.dot(w, x) + b  # Menghitung jumlah bobot masukan ditambah bias\n",
    "    y = unitStep(v)  # Menerapkan fungsi step unit ke hasilnya\n",
    "    return y \n",
    "\n",
    "# Fungsi untuk mengimplementasikan gerbang logika AND menggunakan model perceptron\n",
    "def AND_logicFunction(x): \n",
    "    w = np.array([1, 1])  # Bobot untuk perceptron\n",
    "    b = -1.5  # Bias untuk perceptron\n",
    "    return perceptronModel(x, w, b) \n",
    "\n",
    "# Menguji perceptron dengan berbagai masukan\n",
    "test1 = np.array([0, 1]) \n",
    "test2 = np.array([1, 1]) \n",
    "test3 = np.array([0, 0]) \n",
    "test4 = np.array([1, 0]) \n",
    "\n",
    "# Mencetak hasil dari fungsi logika AND untuk berbagai masukan\n",
    "print(\"AND({}, {}) = {}\".format(0, 1, AND_logicFunction(test1))) \n",
    "print(\"AND({}, {}) = {}\".format(1, 1, AND_logicFunction(test2))) \n",
    "print(\"AND({}, {}) = {}\".format(0, 0, AND_logicFunction(test3))) \n",
    "print(\"AND({}, {}) = {}\".format(1, 0, AND_logicFunction(test4))) "
   ]
  },
  {
   "cell_type": "code",
   "execution_count": 3,
   "metadata": {},
   "outputs": [
    {
     "name": "stdout",
     "output_type": "stream",
     "text": [
      "AND(0, 1) = 0\n",
      "AND(1, 1) = 1\n",
      "AND(0, 0) = 0\n",
      "AND(1, 0) = 0\n"
     ]
    }
   ],
   "source": [
    "def unitStep(v): \n",
    "    if v >= 0: \n",
    "        return 1\n",
    "    else: \n",
    "        return 0\n",
    "\n",
    "def perceptronModel(x, w, b): \n",
    "    v = sum(w[i] * x[i] for i in range(len(w))) + b\n",
    "    y = unitStep(v) \n",
    "    return y \n",
    "\n",
    "def AND_logicFunction(x): \n",
    "    w = [1, 1]\n",
    "    b = -1.5\n",
    "    return perceptronModel(x, w, b) \n",
    "\n",
    "# Test cases\n",
    "test1 = [0, 1] \n",
    "test2 = [1, 1] \n",
    "test3 = [0, 0] \n",
    "test4 = [1, 0] \n",
    "\n",
    "print(\"AND({}, {}) = {}\".format(0, 1, AND_logicFunction(test1))) \n",
    "print(\"AND({}, {}) = {}\".format(1, 1, AND_logicFunction(test2))) \n",
    "print(\"AND({}, {}) = {}\".format(0, 0, AND_logicFunction(test3))) \n",
    "print(\"AND({}, {}) = {}\".format(1, 0, AND_logicFunction(test4))) \n"
   ]
  }
 ],
 "metadata": {
  "kernelspec": {
   "display_name": "Python 3",
   "language": "python",
   "name": "python3"
  },
  "language_info": {
   "codemirror_mode": {
    "name": "ipython",
    "version": 3
   },
   "file_extension": ".py",
   "mimetype": "text/x-python",
   "name": "python",
   "nbconvert_exporter": "python",
   "pygments_lexer": "ipython3",
   "version": "3.12.1"
  }
 },
 "nbformat": 4,
 "nbformat_minor": 2
}
