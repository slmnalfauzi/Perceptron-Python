{
 "cells": [
  {
   "cell_type": "code",
   "execution_count": 2,
   "metadata": {},
   "outputs": [
    {
     "name": "stdout",
     "output_type": "stream",
     "text": [
      "OR(0, 1) = 1\n",
      "OR(1, 1) = 1\n",
      "OR(1, 0) = 1\n",
      "OR(0, 0) = 0\n"
     ]
    }
   ],
   "source": [
    "import numpy as np\n",
    "\n",
    "def unitStep(v):\n",
    "    if v >= 0:\n",
    "        return 1\n",
    "    else:\n",
    "        return 0\n",
    "\n",
    "def perceptron(x, w, b,):\n",
    "    v = np.dot(w, x) + b\n",
    "    y = unitStep(v)\n",
    "    return y\n",
    "\n",
    "def OR_logicFunc(x):\n",
    "    w = np.array([1,1])\n",
    "    b = -0.5\n",
    "    return perceptron(x, w, b)\n",
    "\n",
    "test1 = np.array([0,1])\n",
    "test2 = np.array([1,1])\n",
    "test3 = np.array([1,0])\n",
    "test4 = np.array([0,0])\n",
    "\n",
    "print(\"OR({}, {}) = {}\".format(0, 1, OR_logicFunc(test1)))\n",
    "print(\"OR({}, {}) = {}\".format(1, 1, OR_logicFunc(test2)))\n",
    "print(\"OR({}, {}) = {}\".format(1, 0, OR_logicFunc(test3)))\n",
    "print(\"OR({}, {}) = {}\".format(0, 0, OR_logicFunc(test4)))"
   ]
  },
  {
   "cell_type": "code",
   "execution_count": 1,
   "metadata": {},
   "outputs": [
    {
     "name": "stdout",
     "output_type": "stream",
     "text": [
      "OR(0, 1) = 1\n",
      "OR(1, 1) = 1\n",
      "OR(1, 0) = 1\n",
      "OR(0, 0) = 0\n"
     ]
    }
   ],
   "source": [
    "def unitStep(v):\n",
    "    if v >= 0:\n",
    "        return 1\n",
    "    else:\n",
    "        return 0\n",
    "\n",
    "def perceptron(x, w, b):\n",
    "    # Menghitung dot product secara manual\n",
    "    v = sum(w[i] * x[i] for i in range(len(w))) + b\n",
    "    y = unitStep(v)\n",
    "    return y\n",
    "\n",
    "def OR_logicFunc(x):\n",
    "    # Bobot dan bias untuk fungsi OR\n",
    "    w = [1, 1]\n",
    "    b = -0.5\n",
    "    return perceptron(x, w, b)\n",
    "\n",
    "# Test cases\n",
    "test1 = [0, 1]\n",
    "test2 = [1, 1]\n",
    "test3 = [1, 0]\n",
    "test4 = [0, 0]\n",
    "\n",
    "print(\"OR({}, {}) = {}\".format(0, 1, OR_logicFunc(test1)))\n",
    "print(\"OR({}, {}) = {}\".format(1, 1, OR_logicFunc(test2)))\n",
    "print(\"OR({}, {}) = {}\".format(1, 0, OR_logicFunc(test3)))\n",
    "print(\"OR({}, {}) = {}\".format(0, 0, OR_logicFunc(test4)))"
   ]
  }
 ],
 "metadata": {
  "kernelspec": {
   "display_name": "Python 3",
   "language": "python",
   "name": "python3"
  },
  "language_info": {
   "codemirror_mode": {
    "name": "ipython",
    "version": 3
   },
   "file_extension": ".py",
   "mimetype": "text/x-python",
   "name": "python",
   "nbconvert_exporter": "python",
   "pygments_lexer": "ipython3",
   "version": "3.11.5"
  }
 },
 "nbformat": 4,
 "nbformat_minor": 2
}
