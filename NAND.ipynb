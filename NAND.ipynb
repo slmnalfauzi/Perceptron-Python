{
 "cells": [
  {
   "cell_type": "code",
   "execution_count": 4,
   "metadata": {},
   "outputs": [
    {
     "name": "stdout",
     "output_type": "stream",
     "text": [
      "NAND(0, 1) = 1\n",
      "NAND(1, 1) = 0\n",
      "NAND(0, 0) = 1\n",
      "NAND(1, 0) = 1\n"
     ]
    }
   ],
   "source": [
    "import numpy as np \n",
    "\n",
    "def unitStep(v): \n",
    "\tif v >= 0: \n",
    "\t\treturn 1\n",
    "\telse: \n",
    "\t\treturn 0\n",
    "\n",
    "def perceptronModel(x, w, b): \n",
    "\tv = np.dot(w, x) + b \n",
    "\ty = unitStep(v) \n",
    "\treturn y \n",
    "\n",
    "def NOT_logicFunction(x): \n",
    "\twNOT = -1\n",
    "\tbNOT = 0.5\n",
    "\treturn perceptronModel(x, wNOT, bNOT) \n",
    "\n",
    "def AND_logicFunction(x): \n",
    "\tw = np.array([1, 1]) \n",
    "\tbAND = -1.5\n",
    "\treturn perceptronModel(x, w, bAND) \n",
    "\n",
    "def NAND_logicFunction(x): \n",
    "\toutput_AND = AND_logicFunction(x) \n",
    "\toutput_NOT = NOT_logicFunction(output_AND) \n",
    "\treturn output_NOT \n",
    "\n",
    "test1 = np.array([0, 1]) \n",
    "test2 = np.array([1, 1]) \n",
    "test3 = np.array([0, 0]) \n",
    "test4 = np.array([1, 0]) \n",
    "\n",
    "print(\"NAND({}, {}) = {}\".format(0, 1, NAND_logicFunction(test1))) \n",
    "print(\"NAND({}, {}) = {}\".format(1, 1, NAND_logicFunction(test2))) \n",
    "print(\"NAND({}, {}) = {}\".format(0, 0, NAND_logicFunction(test3))) \n",
    "print(\"NAND({}, {}) = {}\".format(1, 0, NAND_logicFunction(test4))) \n"
   ]
  },
  {
   "cell_type": "code",
   "execution_count": 1,
   "metadata": {},
   "outputs": [
    {
     "name": "stdout",
     "output_type": "stream",
     "text": [
      "NAND(0, 1) = 1\n",
      "NAND(1, 1) = 0\n",
      "NAND(0, 0) = 1\n",
      "NAND(1, 0) = 1\n"
     ]
    }
   ],
   "source": [
    "def unitStep(v): \n",
    "    if v >= 0: \n",
    "        return 1\n",
    "    else: \n",
    "        return 0\n",
    "\n",
    "def perceptronModel(x, w, b): \n",
    "    # Menghitung dot product secara manual jika w adalah list\n",
    "    if isinstance(w, list):\n",
    "        v = sum(w[i] * x[i] for i in range(len(w))) + b\n",
    "    else:\n",
    "        # Jika hanya satu bobot (untuk fungsi NOT)\n",
    "        v = w * x + b\n",
    "    y = unitStep(v) \n",
    "    return y \n",
    "\n",
    "def NOT_logicFunction(x): \n",
    "    wNOT = -1\n",
    "    bNOT = 0.5\n",
    "    return perceptronModel(x, wNOT, bNOT) \n",
    "\n",
    "def AND_logicFunction(x): \n",
    "    w = [1, 1] \n",
    "    bAND = -1.5\n",
    "    return perceptronModel(x, w, bAND) \n",
    "\n",
    "def NAND_logicFunction(x): \n",
    "    output_AND = AND_logicFunction(x) \n",
    "    output_NOT = NOT_logicFunction(output_AND) \n",
    "    return output_NOT \n",
    "\n",
    "# Test cases\n",
    "test1 = [0, 1] \n",
    "test2 = [1, 1] \n",
    "test3 = [0, 0] \n",
    "test4 = [1, 0] \n",
    "\n",
    "print(\"NAND({}, {}) = {}\".format(0, 1, NAND_logicFunction(test1))) \n",
    "print(\"NAND({}, {}) = {}\".format(1, 1, NAND_logicFunction(test2))) \n",
    "print(\"NAND({}, {}) = {}\".format(0, 0, NAND_logicFunction(test3))) \n",
    "print(\"NAND({}, {}) = {}\".format(1, 0, NAND_logicFunction(test4))) \n"
   ]
  }
 ],
 "metadata": {
  "kernelspec": {
   "display_name": "Python 3",
   "language": "python",
   "name": "python3"
  },
  "language_info": {
   "codemirror_mode": {
    "name": "ipython",
    "version": 3
   },
   "file_extension": ".py",
   "mimetype": "text/x-python",
   "name": "python",
   "nbconvert_exporter": "python",
   "pygments_lexer": "ipython3",
   "version": "3.11.5"
  }
 },
 "nbformat": 4,
 "nbformat_minor": 2
}
