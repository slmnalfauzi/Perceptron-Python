{
 "cells": [
  {
   "cell_type": "code",
   "execution_count": 1,
   "metadata": {},
   "outputs": [
    {
     "name": "stdout",
     "output_type": "stream",
     "text": [
      "XOR(0, 1) = 1\n",
      "XOR(1, 1) = 0\n",
      "XOR(0, 0) = 0\n",
      "XOR(1, 0) = 1\n"
     ]
    }
   ],
   "source": [
    "import numpy as np\n",
    "\n",
    "def unitStep(v):\n",
    "    if v >= 0:\n",
    "        return 1\n",
    "    else:\n",
    "        return 0\n",
    "\n",
    "def perceptron(x, w, b):\n",
    "    v = np.dot(w, x) + b\n",
    "    y = unitStep(v)\n",
    "    return y\n",
    "\n",
    "def NOT_logicFunc(x):\n",
    "    wNOT = -1\n",
    "    bNOT = 0.5\n",
    "    return perceptron(x, wNOT, bNOT)\n",
    "\n",
    "def AND_logicFunc(x):\n",
    "    w = np.array([1, 1])\n",
    "    bAND = -1.5\n",
    "    return perceptron(x, w, bAND)\n",
    "\n",
    "def OR_logicFunc(x):\n",
    "    w = np.array([1, 1])\n",
    "    bOR = -0.5\n",
    "    return perceptron(x, w, bOR)\n",
    "\n",
    "def XOR_logicFunc(x):\n",
    "    y1 = AND_logicFunc(x)\n",
    "    y2 = OR_logicFunc(x)\n",
    "    y3 = NOT_logicFunc(y1)\n",
    "    final_x = np.array([y2, y3])\n",
    "    finalOutput = AND_logicFunc(final_x)\n",
    "    return finalOutput\n",
    "\n",
    "test1 = np.array([0, 1])\n",
    "test2 = np.array([1, 1])\n",
    "test3 = np.array([0, 0])\n",
    "test4 = np.array([1, 0])\n",
    "\n",
    "print(\"XOR({}, {}) = {}\". format(0, 1, XOR_logicFunc(test1)))\n",
    "print(\"XOR({}, {}) = {}\". format(1, 1, XOR_logicFunc(test2)))\n",
    "print(\"XOR({}, {}) = {}\". format(0, 0, XOR_logicFunc(test3)))\n",
    "print(\"XOR({}, {}) = {}\". format(1, 0, XOR_logicFunc(test4)))\n"
   ]
  },
  {
   "cell_type": "code",
   "execution_count": 1,
   "metadata": {},
   "outputs": [
    {
     "name": "stdout",
     "output_type": "stream",
     "text": [
      "XOR(0, 1) = 1\n",
      "XOR(1, 1) = 0\n",
      "XOR(0, 0) = 0\n",
      "XOR(1, 0) = 1\n"
     ]
    }
   ],
   "source": [
    "def unitStep(v):\n",
    "    if v >= 0:\n",
    "        return 1\n",
    "    else:\n",
    "        return 0\n",
    "\n",
    "def perceptron(x, w, b):\n",
    "    # Menghitung dot product secara manual jika w adalah list\n",
    "    if isinstance(w, list):\n",
    "        v = sum(w[i] * x[i] for i in range(len(w))) + b\n",
    "    else:\n",
    "        # Jika hanya satu bobot untuk fungsi NOT\n",
    "        v = w * x + b\n",
    "    y = unitStep(v)\n",
    "    return y\n",
    "\n",
    "def NOT_logicFunc(x):\n",
    "    wNOT = -1\n",
    "    bNOT = 0.5\n",
    "    return perceptron(x, wNOT, bNOT)\n",
    "\n",
    "def AND_logicFunc(x):\n",
    "    w = [1, 1]\n",
    "    bAND = -1.5\n",
    "    return perceptron(x, w, bAND)\n",
    "\n",
    "def OR_logicFunc(x):\n",
    "    w = [1, 1]\n",
    "    bOR = -0.5\n",
    "    return perceptron(x, w, bOR)\n",
    "\n",
    "def XOR_logicFunc(x):\n",
    "    # Menggunakan kombinasi fungsi logika\n",
    "    y1 = AND_logicFunc(x)\n",
    "    y2 = OR_logicFunc(x)\n",
    "    y3 = NOT_logicFunc(y1)\n",
    "    final_x = [y2, y3]\n",
    "    finalOutput = AND_logicFunc(final_x)\n",
    "    return finalOutput\n",
    "\n",
    "# Test cases\n",
    "test1 = [0, 1]\n",
    "test2 = [1, 1]\n",
    "test3 = [0, 0]\n",
    "test4 = [1, 0]\n",
    "\n",
    "print(\"XOR({}, {}) = {}\".format(0, 1, XOR_logicFunc(test1)))\n",
    "print(\"XOR({}, {}) = {}\".format(1, 1, XOR_logicFunc(test2)))\n",
    "print(\"XOR({}, {}) = {}\".format(0, 0, XOR_logicFunc(test3)))\n",
    "print(\"XOR({}, {}) = {}\".format(1, 0, XOR_logicFunc(test4)))"
   ]
  }
 ],
 "metadata": {
  "kernelspec": {
   "display_name": "Python 3",
   "language": "python",
   "name": "python3"
  },
  "language_info": {
   "codemirror_mode": {
    "name": "ipython",
    "version": 3
   },
   "file_extension": ".py",
   "mimetype": "text/x-python",
   "name": "python",
   "nbconvert_exporter": "python",
   "pygments_lexer": "ipython3",
   "version": "3.11.5"
  }
 },
 "nbformat": 4,
 "nbformat_minor": 2
}
